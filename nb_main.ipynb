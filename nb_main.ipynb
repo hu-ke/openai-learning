{
 "cells": [
  {
   "cell_type": "code",
   "execution_count": 117,
   "metadata": {},
   "outputs": [],
   "source": [
    "from langchain.document_loaders import YoutubeLoader\n",
    "from langchain.llms import OpenAI\n",
    "from langchain.chains.summarize import load_summarize_chain\n",
    "import os\n",
    "import ssl\n",
    "ssl._create_default_https_context = ssl._create_unverified_context"
   ]
  },
  {
   "cell_type": "code",
   "execution_count": 118,
   "metadata": {},
   "outputs": [],
   "source": [
    "my_key = os.getenv('OPENAI_API_KEY')"
   ]
  },
  {
   "cell_type": "code",
   "execution_count": 119,
   "metadata": {},
   "outputs": [],
   "source": [
    "loader = YoutubeLoader.from_youtube_url(\"https://www.youtube.com/watch?v=pR9lSS6jmJI\", add_video_info=True)"
   ]
  },
  {
   "cell_type": "code",
   "execution_count": 113,
   "metadata": {},
   "outputs": [],
   "source": [
    "result = loader.load()"
   ]
  },
  {
   "cell_type": "code",
   "execution_count": 114,
   "metadata": {},
   "outputs": [
    {
     "name": "stdout",
     "output_type": "stream",
     "text": [
      "<class 'list'>\n",
      "\n",
      "[Document(page_content='Rivers - are great. For millennia, they helped us\\xa0\\nsurvive, enabled us to build the first cities\\xa0\\xa0 and civilisations and allowed us to travel and\\xa0\\ntrade. And for millennia, we also used rivers as\\xa0\\xa0 borders. The Romans famously used the rivers Rhine\\xa0\\nand Danube as borders to their empire, since they\\xa0\\xa0 offer natural protection against external invaders.\\xa0\\nEven today rivers are useful as borders. There are\\xa0\\xa0 hundreds of rivers forming international borders\\xa0\\nor internal administrative borders for things\\xa0\\xa0 like cities. But it is one thing that rivers\\xa0\\ndo, which borders should not: They eventually\\xa0\\xa0 change. Either naturally or through human intervention -\\xa0\\nand this can create conflict. And where else\\xa0\\xa0 could the best example for this problem be\\xa0\\nfound in here: the Balkans. More specifically,\\xa0\\xa0 at the border between Croatia and Serbia, where\\xa0\\nthe Danube divides the two countries from each\\xa0\\xa0 other. Or does it? Because if you ask Croatia, the\\xa0\\nborders should look differently, with larger bits\\xa0\\xa0 of Croatia on the rivers East side and smaller\\xa0\\nbits of Serbia on its West side - which reflects\\xa0\\xa0 the shape of the Danube from the 19th century.\\nBut why are the claims so different? Throughout\\xa0\\xa0 the 19th century, both sides of this part of\\xa0\\nthe Danube were in the Austro-Hungarian Empire. And\\xa0\\xa0 they used the Danube as an internal border between\\xa0\\nmunicipalities. However, by the end of the 19th\\xa0\\xa0 century, the Austrians began to significantly\\xa0\\nchange the course of the Danube to straighten\\xa0\\xa0 it - but they did not change the borders of the\\xa0\\nmunicipalities to reflect this new course. One\\xa0\\xa0 World War later, and the area would become part\\xa0\\nof the new Kingdom of Serbs, Croats and Slovenes -\\xa0\\xa0 shortly after renamed to Yugoslavia - which simply\\xa0\\nkept the Austrian municipality borders in the\\xa0\\xa0 region. Another World War later, Yugoslavia\\xa0\\nwas taken over by the communist partisans, led\\xa0\\xa0 by Josip Broz, also known as \"Tito\". He envisioned\\xa0\\nYugoslavia to be a federal, socialist nation. And\\xa0\\xa0 so, special committees were established to define\\xa0\\nthe federal borders. That Commission decided that\\xa0\\xa0 the border between Croatia and Serbia should\\xa0\\nfollow the Danube - but both sides different views\\xa0\\xa0 on what this actually meant. Serbia wanted the\\xa0\\nborder to follow the exact course of the Danube while\\xa0\\xa0 Croatia wanted the border to roughly follow the\\xa0\\nDanube - without breaking the borders of the\\xa0\\xa0 Croatian municipalities which the Austrians once\\xa0\\nestablished. So, a new committee was formed to solve\\xa0\\xa0 this issue. The result: They simply postponed\\xa0\\nthe problem by deciding that the border would\\xa0\\xa0 temporarily correspond to Croatia\\'s claim, until a\\xa0\\nfuture committee would solve it indefinitely. But\\xa0\\xa0 this future committee never came, and nobody really\\xa0\\ncared because it was after all Yugoslavia - until it\\xa0\\xa0 wasn\\'t. One Yugoslav war later, and here we are.\\xa0\\nIn practice, the borders correspond with Serbia\\'s\\xa0\\xa0 claim, as they control all of the land on the rivers\\xa0\\nEast side. Nonetheless, Croatia still insists that\\xa0\\xa0 the borders need to be changed, which could have\\xa0\\na huge impact on Serbia\\'s EU-integration process.\\xa0\\xa0 Croatia is using its EU-membership to pressure\\xa0\\nSerbia into giving in to its demands, since they\\xa0\\xa0 could simply block Serbia\\'s accession to the\\xa0\\nEuropean Union. Regardless, there is another\\xa0\\xa0 aspect of this conflict which made it famous in\\xa0\\n2015. While Croatia and Serbia both claim this land\\xa0\\xa0 on the east side of the river, none of the two\\xa0\\nis claiming these smaller pockets on the West\\xa0\\xa0 side. According to Serbia, the green lands belong\\xa0\\nto Croatia. And according to Croatia, it belongs to\\xa0\\xa0 Serbia. A Czech politician, Vít Jedlička, noticed\\xa0\\nthat both nations didn\\'t seem to want that land,\\xa0\\xa0 so he decided to go to the biggest of these\\xa0\\nunclaimed pockets called \"Siga\" and proclaim\\xa0\\xa0 a new country: the nation of Liberland. It has\\xa0\\nits own flag, a state motto and even a website.\\xa0\\xa0 What it doesn\\'t have, however, is infrastructure, an\\xa0\\nactual population living in Siga and - maybe most\\xa0\\xa0 importantly - recognition. And that\\'s a big issue\\xa0\\nfor Liberland, because once this conflict is\\xa0\\xa0 resolved - Liberland will likely have to move. But\\xa0\\nfor now there has been very little progress. In\\xa0\\xa0 2006 both governments agreed on transforming\\xa0\\none disputed river Island, \"Vukovar Island\", into\\xa0\\xa0 a public park and beach for the citizens of both\\xa0\\nnations without border controls. But that\\'s about\\xa0\\xa0 it. Whether this border dispute will be resolved\\xa0\\nanytime soon remains to be seen. And although I\\xa0\\xa0 can\\'t say who is in the right regarding this issue,\\xa0\\nI know who is at fault here: Yeah, I\\'m looking at\\xa0\\xa0 you Austria. Thanks for watching Politics with\\xa0\\nPaint. I recently passed 200 subscribers, and\\xa0\\xa0 I\\'m very happy that you people seem to enjoy\\xa0\\nmy videos. Thank you and until next time, bye!', metadata={'source': 'pR9lSS6jmJI', 'title': 'Liberland and the Croatian-Serbian Border dispute', 'description': 'Unknown', 'view_count': 268477, 'thumbnail_url': 'https://i.ytimg.com/vi/pR9lSS6jmJI/hq720.jpg', 'publish_date': '2020-04-03 00:00:00', 'length': 302, 'author': 'Politics with Paint'})]\n"
     ]
    }
   ],
   "source": [
    "print (type(result))\n",
    "# print (f\"Found video from {result[0].metadata['author']} that is {result[0].metadata['length']} seconds long\")\n",
    "print (\"\")\n",
    "print (result)"
   ]
  },
  {
   "cell_type": "code",
   "execution_count": 115,
   "metadata": {},
   "outputs": [],
   "source": [
    "llm = OpenAI(temperature=0, openai_api_key=my_key)"
   ]
  },
  {
   "cell_type": "code",
   "execution_count": 116,
   "metadata": {},
   "outputs": [
    {
     "data": {
      "text/plain": [
       "'\\n\\nRivers have played a significant role in human history, serving as borders and facilitating trade and travel. However, changes in river courses can lead to conflicts, as seen in the dispute between Croatia and Serbia over the Danube. This issue dates back to the Austro-Hungarian Empire and has been further complicated by the formation of Yugoslavia and the current EU integration process. The creation of the self-proclaimed nation of Liberland on disputed land adds another layer to the conflict. Despite some attempts at resolution, the issue remains unresolved. '"
      ]
     },
     "execution_count": 116,
     "metadata": {},
     "output_type": "execute_result"
    }
   ],
   "source": [
    "chain = load_summarize_chain(llm, chain_type=\"stuff\", verbose=False)\n",
    "chain.run(result)"
   ]
  }
 ],
 "metadata": {
  "kernelspec": {
   "display_name": "Python 3 (ipykernel)",
   "language": "python",
   "name": "python3"
  },
  "language_info": {
   "codemirror_mode": {
    "name": "ipython",
    "version": 3
   },
   "file_extension": ".py",
   "mimetype": "text/x-python",
   "name": "python",
   "nbconvert_exporter": "python",
   "pygments_lexer": "ipython3",
   "version": "3.11.6"
  },
  "vscode": {
   "interpreter": {
    "hash": "973d40b2b159501a25714dfd9efcd538724ccd5db5f6d4a830e5916e0fa69d6d"
   }
  }
 },
 "nbformat": 4,
 "nbformat_minor": 4
}
