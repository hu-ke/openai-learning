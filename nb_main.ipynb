{
 "cells": [
  {
   "cell_type": "code",
   "execution_count": 16,
   "metadata": {},
   "outputs": [],
   "source": [
    "from langchain.document_loaders import BiliBiliLoader\n",
    "from langchain.llms import OpenAI\n",
    "from langchain.chains.summarize import load_summarize_chain\n",
    "from langchain.text_splitter import RecursiveCharacterTextSplitter\n",
    "import os\n",
    "import ssl\n",
    "ssl._create_default_https_context = ssl._create_unverified_context\n",
    "import certifi\n",
    "os.environ['SSL_CERT_FILE'] = certifi.where()\n",
    "import nest_asyncio\n",
    "nest_asyncio.apply()"
   ]
  },
  {
   "cell_type": "code",
   "execution_count": 17,
   "metadata": {},
   "outputs": [],
   "source": [
    "# print(ssl.get_default_verify_paths())\n",
    "# print(certifi.where())\n",
    "my_key = os.getenv('OPENAI_API_KEY')"
   ]
  },
  {
   "cell_type": "markdown",
   "metadata": {},
   "source": []
  },
  {
   "cell_type": "code",
   "execution_count": 18,
   "metadata": {},
   "outputs": [],
   "source": [
    "loader = BiliBiliLoader(\n",
    "    [\n",
    "        \"https://bilibili.com/video/BV1kt421A79W/\",\n",
    "    ],\n",
    "    sessdata=os.getenv('SESSDATA'),\n",
    "    bili_jct=os.getenv('bili_jct'),\n",
    "    buvid3=os.getenv('buvid3'),\n",
    ")"
   ]
  },
  {
   "cell_type": "code",
   "execution_count": 19,
   "metadata": {},
   "outputs": [],
   "source": [
    "result = loader.load()"
   ]
  },
  {
   "cell_type": "code",
   "execution_count": 20,
   "metadata": {},
   "outputs": [
    {
     "name": "stdout",
     "output_type": "stream",
     "text": [
      "<class 'list'>\n",
      "\n",
      "[Document(page_content='Video Title: 《月瘦15斤不反弹、我是怎么维持体重的》活了24年才发现！西湖醋鱼豆汁都好好吃！！, description: -\\n\\nTranscript: 月瘦15斤以后如何一直维持体重不反弹 3月份我从114.7斤 减到了99.2斤 现在是4月2号 我已经恢复正常饮食半个月的时间了 体重依旧在99斤 没反弹 第一是我一直在保持16+8轻断食 八小时内吃完三餐 第二就是我发现一新秘籍 那就是徒步 主要突然得知自己得了痔疮 那真的不得不运动了 家人们哈哈老田作为一个白羊座爱人 让我去那人老多的健身房是绝对不可能的 远离人群的徒步就很合适 又能吸氧 还有美景 更重要的是 你们看脑残是99.2斤出门的 一路上边走边吃 第二天体重竟是啥呀 两斤 咱们今天选择的是去杭州徒步十里郎当 路线全长10km 预计要爬35小时 从梅家坞公交站出发 往右转就到达我们的起点了 一开始都是往上爬的台阶 还贴心的标注了卡路里 再累也要坚持 绝对不敢痔疮 到了三岔路口 一定要往龙井村走 穿过一片树林就能远眺西湖了 远眺西湖老田徒步一般会背一个20L的背包 里边有屁垫 桌子 还自己准备了餐食 野餐吃饱了就到了全段最漂亮的龙井村了 大片大片的茶林 3月底茶叶成熟 有很多奶奶的采茶 超级治愈 家人们一路走过来 都是那个茶香特别浓郁 可以在龙井村的茶农家里买点现炒的龙井茶 510斤 大家觉得合适吗 送给我妈 再往前走 就是九溪 这个徒步最大的特点是每一段的风景都不一样 太冒险的朵拉 太对了 家人们水清澈见底 但是一定注意防滑哦 哎呦哈哈哟 我想拍个美美的哈哈 进入这个酒席了之后 感觉真的好漂亮啊 氧气特别充足 这次体重之所以可以维持这么久 第一就是自律 真的给我带来了很多正向的反馈 脸小小的腰也瘦瘦的哎 就很舒服 第二是最重要的 那些键盘侠不都等着我反弹了吗 哼必不可能我必须得坚持 不能让他们得逞了 从早上11点爬到现在04:30 终于到达目的地 酒吸烟树了 爬了五个半小时啊 说实话都是因为拍摄耽误时间了 我我还喝茶了 我我不累啊 咱都来杭州这个美食之都了 趁断食还没开始 不得造顿国宴呢 西湖醋鱼23年来第一次吃啊 网上的评价褒贬不一 我来尝尝怎么事 我奶茶哦 七分酸三分甜 这橘子还没这哎呀妈呀 好吃啊 在今天运动消耗这么大的情况下 我米饭还是只吃半碗 主要还是吃鱼 都是蛋白质 你们说明天会不会胖呢 哎呀 四五十七.7斤 1.5斤啊 这这这这比我减肥那会儿还瘦了 饮食上控制一点点 再加上一点运动 这奇效啊 运动YYDS啊 哎原来不爱运动 这下得了痔疮 必须得运动 这下反弹不回去了 不得给那些黑子们急死呀 吼吼 明天见西湖醋鱼都挑战了 老田可以去北京挑战豆汁儿吗 3年了 北京我带着190万粉丝回来啦 3年前我曾立下豪言壮志 因为我家离北京特别近 在北京过得特别安逸 所以我想去上海体验一下社会的邪恶 救命啊 真的没眼看 今天回来不仅要挑战老北京豆汁儿 还要带你们故地重游一下 回到老田 3年前北漂的位置 看看当时爱吃的饭馆都生存下来了吧 嘿嘿我真的太好奇了 那可是真正的实惠又好吃啊 早上十点 本地人推荐老磁器口豆汁儿 有可多爷爷奶奶诶 感觉很正宗 3年前还是太年轻了 没喝下去 人生第二次尝试 老八秘制小蛋 生日小汉堡 老八秘制小汉堡 哎怎么这么好喝呀 让我奶熬的糊涂 就这个味儿地道 真的不夸张 我好像突然就觉得可以接受了 这种豆汁儿都是绿豆发酵成的 它有一股豆香味儿 哎呀这个人 多么寂寞 这还叫挑战 这叫享受 开胃了 属于不过如此 以前在北京的时候 我其实就住在高碑店 这的超级蜂巢 可偏了3000多一个月吧 好像是当时最爱吃的是一家东北菜馆 叫石磨房酒楼 就在这附近 不知道太开心了吧 哎哎我的乖乖啊 还开着哈哈 我的天呐 还翻新了 好新啊 现在十块钱一根棒骨 五块钱巨大花卷 我的乖乖 这真是我以前最爱的搭配了 每一桌还有免费的豆浆 15块钱 极致的享受 家人们主打的就是一个便宜量大哦 你这个手端不起来 这是我的拳头 你看吃不完 根本吃不完了 第二爱吃的就是去传媒大学 路上有个脏摊麻辣串 哎呀妈呀 老好吃了 就是吃一次窜一次 但是还特别的好吃 我就感觉他有可能不在了 就是哦吼哎哎 没了变成刀削面了 麻辣烫没了 你我怎么活呀 第三爱吃的是西单里面一家章鱼小丸子店 是我这么多年吃过最好吃的 上海那么多日料店卖章鱼小丸子 我觉得都没他好 我们主打就是不看导航 只靠记忆 不就是这样吗 哎呀就我就这样魂牵梦绕 我3年终于吃上了海参那个味儿 他这个馅料里面有红椒 就跟别的章鱼小丸子感觉不一样 味道非常的有层次 以前上学的时候要生活费 40块钱 八个小丸子 我直接拿下 现在自己赚钱了 呵呵40块钱八个小丸子才虽然好吃 还是得斟酌一下啊 第四家最爱就要回到高碑店了 夜宵我老吃那个叫什么张记烤羊腿 首先他这个蘸料就超级无敌绝 特别特别特别香 你看他都是现打的 这花生颗粒都在这呢 呃好吃啊 必点的就是乾隆白菜疙瘩汤 还有这个牛胸口 你看看豆腐是那大肥油啊 真的跟外面没法比 真的太香了太香了 一吃一咬那个油料全爆开 再配上一把子羊肉串 你就吃吧 青春的味道 青春虽然咱这3年也没干啥大成绩啊 但是平平淡淡才是真 感谢家人的支持 下期预告 去北京环球影城吃一天会胖多少斤 这好不容易来一趟 我得多拍拍 明天见', metadata={'bvid': 'BV1kt421A79W', 'aid': 1753737392, 'videos': 1, 'tid': 21, 'tname': '日常', 'copyright': 1, 'pic': 'http://i0.hdslb.com/bfs/archive/2a9ebcc65b72c9927a86806db855955966969606.jpg', 'title': '《月瘦15斤不反弹、我是怎么维持体重的》活了24年才发现！西湖醋鱼豆汁都好好吃！！', 'pubdate': 1714125600, 'ctime': 1714067745, 'desc': '-', 'desc_v2': [{'raw_text': '-', 'type': 1, 'biz_id': 0}], 'state': 0, 'duration': 503, 'rights': {'bp': 0, 'elec': 0, 'download': 1, 'movie': 0, 'pay': 0, 'hd5': 0, 'no_reprint': 1, 'autoplay': 1, 'ugc_pay': 0, 'is_cooperation': 0, 'ugc_pay_preview': 0, 'no_background': 0, 'clean_mode': 0, 'is_stein_gate': 0, 'is_360': 0, 'no_share': 0, 'arc_pay': 0, 'free_watch': 0}, 'owner': {'mid': 481575325, 'name': '干饭了田田圈', 'face': 'https://i1.hdslb.com/bfs/face/d4f3911a9a11d357252e9238482e7c8e8543b654.jpg'}, 'stat': {'aid': 1753737392, 'view': 165795, 'danmaku': 319, 'reply': 277, 'favorite': 1299, 'coin': 1055, 'share': 316, 'now_rank': 0, 'his_rank': 0, 'like': 7588, 'dislike': 0, 'evaluation': '', 'vt': 0}, 'argue_info': {'argue_msg': '', 'argue_type': 0, 'argue_link': ''}, 'dynamic': '', 'cid': 1520084649, 'dimension': {'width': 1080, 'height': 1920, 'rotate': 0}, 'premiere': None, 'teenage_mode': 0, 'is_chargeable_season': False, 'is_story': True, 'is_upower_exclusive': False, 'is_upower_play': False, 'is_upower_preview': False, 'enable_vt': 0, 'vt_display': '', 'no_cache': False, 'pages': [{'cid': 1520084649, 'page': 1, 'from': 'vupload', 'part': '《月瘦15斤半个月不反弹、我是怎么维持体重的》活了24年才发现！西湖醋鱼豆汁都好好吃！！', 'duration': 503, 'vid': '', 'weblink': '', 'dimension': {'width': 1080, 'height': 1920, 'rotate': 0}, 'first_frame': 'http://i0.hdslb.com/bfs/storyff/n240426sa318x1xm0lpfo3d41p36uryj_firsti.jpg'}], 'subtitle': {'allow_submit': False, 'list': [{'id': 1475697380748966144, 'lan': 'ai-zh', 'lan_doc': '中文（自动生成）', 'is_lock': False, 'subtitle_url': '', 'type': 1, 'id_str': '1475697380748966144', 'ai_type': 0, 'ai_status': 2, 'author': {'mid': 0, 'name': '', 'sex': '', 'face': '', 'sign': '', 'rank': 0, 'birthday': 0, 'is_fake_account': 0, 'is_deleted': 0, 'in_reg_audit': 0, 'is_senior_member': 0}}]}, 'is_season_display': False, 'user_garb': {'url_image_ani_cut': ''}, 'honor_reply': {}, 'like_icon': '', 'need_jump_bv': False, 'disable_show_up_info': False, 'is_story_play': 1, 'url': 'https://bilibili.com/video/BV1kt421A79W/'})]\n"
     ]
    }
   ],
   "source": [
    "print (type(result))\n",
    "# print (f\"Found video from {result[0].metadata['author']} that is {result[0].metadata['length']} seconds long\")\n",
    "print (\"\")\n",
    "print (result)"
   ]
  },
  {
   "cell_type": "code",
   "execution_count": 21,
   "metadata": {},
   "outputs": [],
   "source": [
    "llm = OpenAI(temperature=0, openai_api_key=my_key)"
   ]
  },
  {
   "cell_type": "code",
   "execution_count": 22,
   "metadata": {},
   "outputs": [],
   "source": [
    "text_splitter = RecursiveCharacterTextSplitter(chunk_size=2000, chunk_overlap=0)"
   ]
  }
 ],
 "metadata": {
  "kernelspec": {
   "display_name": "Python 3 (ipykernel)",
   "language": "python",
   "name": "python3"
  },
  "language_info": {
   "codemirror_mode": {
    "name": "ipython",
    "version": 3
   },
   "file_extension": ".py",
   "mimetype": "text/x-python",
   "name": "python",
   "nbconvert_exporter": "python",
   "pygments_lexer": "ipython3",
   "version": "3.11.6"
  },
  "vscode": {
   "interpreter": {
    "hash": "973d40b2b159501a25714dfd9efcd538724ccd5db5f6d4a830e5916e0fa69d6d"
   }
  }
 },
 "nbformat": 4,
 "nbformat_minor": 4
}
