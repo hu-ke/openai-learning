{
 "cells": [
  {
   "cell_type": "code",
   "execution_count": 69,
   "metadata": {},
   "outputs": [],
   "source": [
    "from langchain.agents import load_tools\n",
    "from langchain.agents import initialize_agent\n",
    "from langchain_openai import OpenAI\n"
   ]
  },
  {
   "cell_type": "code",
   "execution_count": 70,
   "metadata": {},
   "outputs": [],
   "source": [
    "from langchain.agents import load_tools\n",
    "\n",
    "import os\n",
    "os.environ['OPENAI_API_KEY'] = os.getenv('OPENAI_API_KEY')\n",
    "os.environ['SERPAPI_API_KEY'] = os.getenv('SERP_API_KEY')"
   ]
  },
  {
   "cell_type": "code",
   "execution_count": 71,
   "metadata": {},
   "outputs": [],
   "source": [
    "llm = OpenAI(temperature=0)"
   ]
  },
  {
   "cell_type": "code",
   "execution_count": 72,
   "metadata": {},
   "outputs": [],
   "source": [
    "tool_names = [\"serpapi\"]\n",
    "tools = load_tools(tool_names)"
   ]
  },
  {
   "cell_type": "code",
   "execution_count": 73,
   "metadata": {},
   "outputs": [],
   "source": [
    "agent = initialize_agent(tools, llm, agent=\"zero-shot-react-description\", verbose=True)"
   ]
  },
  {
   "cell_type": "code",
   "execution_count": 74,
   "metadata": {},
   "outputs": [
    {
     "name": "stdout",
     "output_type": "stream",
     "text": [
      "\n",
      "\n",
      "\u001b[1m> Entering new AgentExecutor chain...\u001b[0m\n",
      "\u001b[32;1m\u001b[1;3m I should search for information about LangChain to find out more.\n",
      "Action: Search\n",
      "Action Input: LangChain\u001b[0m\n",
      "Observation: \u001b[36;1m\u001b[1;3m[\"LangChain is a framework designed to simplify the creation of applications using large language models. As a language model integration framework, LangChain's use-cases largely overlap with those of language models in general, including document analysis and summarization, chatbots, and code analysis.\", 'LangChain entity_type: kp3_verticals.', 'LangChain kgmid: /g/11kjpl7_60.', 'LangChain initial_release_date: October 2022.', 'LangChain developer_s: Harrison Chase.', 'LangChain license: MIT License.', 'LangChain repository: github.com/langchain-ai/langchain.', 'LangChain stable_release: 0.1.16 / 11 April 2024; 20 days ago.', 'LangChain written_in: Python and JavaScript.', 'From startups to global enterprises, ambitious builders choose LangChain. Build. LangChain gives developers a framework to construct LLM‑powered apps easily.', 'LangChain is a framework for developing applications powered by large language models (LLMs). For these applications, LangChain simplifies the entire ...', 'LangChain is essentially a library of abstractions for Python and Javascript, representing common steps and concepts necessary to work with language models.', 'Chains go beyond a single LLM call and involve sequences of calls (whether to an LLM or a different utility). LangChain provides a standard interface for chains ...', 'LangChain provides AI developers with tools to connect language models with external data sources. It is open-source and supported by an active community.', 'LangChain is a framework designed to simplify the creation of applications using large language models (LLMs). As a language model integration framework, ...']\u001b[0m\n",
      "Thought:\u001b[32;1m\u001b[1;3m I should read through the information and take note of any important details.\n",
      "Action: Search\n",
      "Action Input: LangChain\u001b[0m\n",
      "Observation: \u001b[36;1m\u001b[1;3m[\"LangChain is a framework designed to simplify the creation of applications using large language models. As a language model integration framework, LangChain's use-cases largely overlap with those of language models in general, including document analysis and summarization, chatbots, and code analysis.\", 'LangChain entity_type: kp3_verticals.', 'LangChain kgmid: /g/11kjpl7_60.', 'LangChain initial_release_date: October 2022.', 'LangChain developer_s: Harrison Chase.', 'LangChain license: MIT License.', 'LangChain repository: github.com/langchain-ai/langchain.', 'LangChain stable_release: 0.1.16 / 11 April 2024; 20 days ago.', 'LangChain written_in: Python and JavaScript.', 'From startups to global enterprises, ambitious builders choose LangChain. Build. LangChain gives developers a framework to construct LLM‑powered apps easily.', 'LangChain is a framework for developing applications powered by large language models (LLMs). For these applications, LangChain simplifies the entire ...', 'LangChain is essentially a library of abstractions for Python and Javascript, representing common steps and concepts necessary to work with language models.', 'Chains go beyond a single LLM call and involve sequences of calls (whether to an LLM or a different utility). LangChain provides a standard interface for chains ...', 'LangChain provides AI developers with tools to connect language models with external data sources. It is open-source and supported by an active community.', 'LangChain is a framework designed to simplify the creation of applications using large language models (LLMs). As a language model integration framework, ...']\u001b[0m\n",
      "Thought:\u001b[32;1m\u001b[1;3m After reading through the information, I now have a better understanding of what LangChain is and its purpose.\n",
      "Final Answer: LangChain is a framework designed to simplify the creation of applications using large language models. It is open-source and supported by an active community, and provides developers with tools to connect language models with external data sources. It is written in Python and JavaScript and is set to be released in October 2022.\u001b[0m\n",
      "\n",
      "\u001b[1m> Finished chain.\u001b[0m\n"
     ]
    },
    {
     "data": {
      "text/plain": [
       "{'input': 'What is LangChain?',\n",
       " 'output': 'LangChain is a framework designed to simplify the creation of applications using large language models. It is open-source and supported by an active community, and provides developers with tools to connect language models with external data sources. It is written in Python and JavaScript and is set to be released in October 2022.'}"
      ]
     },
     "execution_count": 74,
     "metadata": {},
     "output_type": "execute_result"
    }
   ],
   "source": [
    "agent.invoke(\"What is LangChain?\")"
   ]
  },
  {
   "cell_type": "code",
   "execution_count": 75,
   "metadata": {},
   "outputs": [
    {
     "name": "stdout",
     "output_type": "stream",
     "text": [
      "\n",
      "\n",
      "\u001b[1m> Entering new AgentExecutor chain...\u001b[0m\n",
      "\u001b[32;1m\u001b[1;3m I should search for the company name and \"ceo\"\n",
      "Action: Search\n",
      "Action Input: \"pipe ceo\"\u001b[0m\n",
      "Observation: \u001b[36;1m\u001b[1;3mLuke Voiles\u001b[0m\n",
      "Thought:\u001b[32;1m\u001b[1;3m I should verify this information\n",
      "Action: Search\n",
      "Action Input: \"Luke Voiles\"\u001b[0m\n",
      "Observation: \u001b[36;1m\u001b[1;3m[\"Experience: Pipe · Location: San Francisco, California, United States · 500+ connections on LinkedIn. View Luke Voiles' profile on LinkedIn, a professional ...\", 'Luke Voiles, a passionate fintech leader, and business builder has been named the next CEO of Pipe. Before his appointment, he was the GM of ...', 'Luke Voiles, a passionate fintech leader, and business builder is the new CEO of Pipe. Prior, he was the GM of Square Banking at Block where ...', 'CEO at Pipe, father of 4, fintech geek. ... Pipe is full of rockstars. Our brand and design team led by our Chief Innovation Officer, Scott ...', 'The CEO of Pipe, Luke Voiles, discusses small business lending and why it is so important to be in the payments flow.', 'The new chief executive, Luke Voiles, is joining Pipe after working as the general manager of Square Banking at Block, formerly Square. He was ...', 'Experienced leadership is no longer a problem for Pipe: as of February 20, the company will have a new Chief Executive Officer: Luke Voiles. The ...', 'The latest episode of the Leaders in Payments podcast presents an eye-opening discussion with Luke Voiles, the CEO of Pipe, who shares his story ...']\u001b[0m\n",
      "Thought:\u001b[32;1m\u001b[1;3m This information seems to confirm that Luke Voiles is the CEO of Pipe\n",
      "Action: Search\n",
      "Action Input: \"Pipe CEO Luke Voiles\"\u001b[0m\n",
      "Observation: \u001b[36;1m\u001b[1;3m['Luke Voiles, a passionate fintech leader, and business builder has been named the next CEO of Pipe. Before his appointment, he was the GM of ...', \"Experience: Pipe · Location: San Francisco, California, United States · 500+ connections on LinkedIn. View Luke Voiles' profile on LinkedIn, a professional ...\", 'Luke has been around fintech for many years and he became CEO of Pipe about a year ago now. He has a different perspective on small business ...', 'CEO at Pipe, father of 4, fintech geek. ... Pipe is full of rockstars. Our brand and design team led by our Chief Innovation Officer, Scott ...', 'The new chief executive, Luke Voiles, is joining Pipe after working as the general manager of Square Banking at Block, formerly Square. He was ...', 'Episode 316 features Luke Voiles, CEO of Pipe. Pipe is the modern capital platform for growth on your terms.', 'Luke Voiles, a passionate fintech leader, and business builder is the new CEO of Pipe. Prior, he was the GM of Square Banking at Block where ...', 'Voiles joins Pipe from Square, where he served as general manager of Square Banking, where he was responsible for scaling and managing Square ...', 'Experienced leadership is no longer a problem for Pipe: as of February 20, the company will have a new Chief Executive Officer: Luke Voiles. The ...']\u001b[0m\n",
      "Thought:\u001b[32;1m\u001b[1;3m This information seems to confirm that Luke Voiles is the CEO of Pipe\n",
      "Action: Search\n",
      "Action Input: \"Pipe CEO Luke Voiles\"\u001b[0m\n",
      "Observation: \u001b[36;1m\u001b[1;3m['Luke Voiles, a passionate fintech leader, and business builder has been named the next CEO of Pipe. Before his appointment, he was the GM of ...', \"Experience: Pipe · Location: San Francisco, California, United States · 500+ connections on LinkedIn. View Luke Voiles' profile on LinkedIn, a professional ...\", 'Luke has been around fintech for many years and he became CEO of Pipe about a year ago now. He has a different perspective on small business ...', 'CEO at Pipe, father of 4, fintech geek. ... Pipe is full of rockstars. Our brand and design team led by our Chief Innovation Officer, Scott ...', 'The new chief executive, Luke Voiles, is joining Pipe after working as the general manager of Square Banking at Block, formerly Square. He was ...', 'Episode 316 features Luke Voiles, CEO of Pipe. Pipe is the modern capital platform for growth on your terms.', 'Luke Voiles, a passionate fintech leader, and business builder is the new CEO of Pipe. Prior, he was the GM of Square Banking at Block where ...', 'Voiles joins Pipe from Square, where he served as general manager of Square Banking, where he was responsible for scaling and managing Square ...', 'Experienced leadership is no longer a problem for Pipe: as of February 20, the company will have a new Chief Executive Officer: Luke Voiles. The ...']\u001b[0m\n",
      "Thought:\u001b[32;1m\u001b[1;3m This information seems to confirm that Luke Voiles is the CEO of Pipe\n",
      "Action: Search\n",
      "Action Input: \"Pipe CEO Luke Voiles\"\u001b[0m\n",
      "Observation: \u001b[36;1m\u001b[1;3m['Luke Voiles, a passionate fintech leader, and business builder has been named the next CEO of Pipe. Before his appointment, he was the GM of ...', \"Experience: Pipe · Location: San Francisco, California, United States · 500+ connections on LinkedIn. View Luke Voiles' profile on LinkedIn, a professional ...\", 'Luke has been around fintech for many years and he became CEO of Pipe about a year ago now. He has a different perspective on small business ...', 'CEO at Pipe, father of 4, fintech geek. ... Pipe is full of rockstars. Our brand and design team led by our Chief Innovation Officer, Scott ...', 'The new chief executive, Luke Voiles, is joining Pipe after working as the general manager of Square Banking at Block, formerly Square. He was ...', 'Episode 316 features Luke Voiles, CEO of Pipe. Pipe is the modern capital platform for growth on your terms.', 'Luke Voiles, a passionate fintech leader, and business builder is the new CEO of Pipe. Prior, he was the GM of Square Banking at Block where ...', 'Voiles joins Pipe from Square, where he served as general manager of Square Banking, where he was responsible for scaling and managing Square ...', 'Experienced leadership is no longer a problem for Pipe: as of February 20, the company will have a new Chief Executive Officer: Luke Voiles. The ...']\u001b[0m\n",
      "Thought:\u001b[32;1m\u001b[1;3m I now know the final answer\n",
      "Final Answer: Luke Voiles is the CEO of Pipe.\u001b[0m\n",
      "\n",
      "\u001b[1m> Finished chain.\u001b[0m\n"
     ]
    },
    {
     "data": {
      "text/plain": [
       "{'input': 'who is the ceo of pipe',\n",
       " 'output': 'Luke Voiles is the CEO of Pipe.'}"
      ]
     },
     "execution_count": 75,
     "metadata": {},
     "output_type": "execute_result"
    }
   ],
   "source": [
    "agent.invoke('who is the ceo of pipe')"
   ]
  }
 ],
 "metadata": {
  "kernelspec": {
   "display_name": "Python 3 (ipykernel)",
   "language": "python",
   "name": "python3"
  },
  "language_info": {
   "codemirror_mode": {
    "name": "ipython",
    "version": 3
   },
   "file_extension": ".py",
   "mimetype": "text/x-python",
   "name": "python",
   "nbconvert_exporter": "python",
   "pygments_lexer": "ipython3",
   "version": "3.11.6"
  },
  "vscode": {
   "interpreter": {
    "hash": "973d40b2b159501a25714dfd9efcd538724ccd5db5f6d4a830e5916e0fa69d6d"
   }
  }
 },
 "nbformat": 4,
 "nbformat_minor": 4
}
