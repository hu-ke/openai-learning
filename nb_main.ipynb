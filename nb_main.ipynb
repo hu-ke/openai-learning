{
 "cells": [
  {
   "cell_type": "code",
   "execution_count": 120,
   "metadata": {},
   "outputs": [],
   "source": [
    "from langchain.document_loaders import YoutubeLoader\n",
    "from langchain.llms import OpenAI\n",
    "from langchain.chains.summarize import load_summarize_chain\n",
    "from langchain.text_splitter import RecursiveCharacterTextSplitter\n",
    "import os\n",
    "import ssl\n",
    "ssl._create_default_https_context = ssl._create_unverified_context"
   ]
  },
  {
   "cell_type": "code",
   "execution_count": 121,
   "metadata": {},
   "outputs": [],
   "source": [
    "my_key = os.getenv('OPENAI_API_KEY')"
   ]
  },
  {
   "cell_type": "code",
   "execution_count": 122,
   "metadata": {},
   "outputs": [],
   "source": [
    "loader = YoutubeLoader.from_youtube_url(\"https://www.youtube.com/watch?v=-2v6EJE3XKo\", add_video_info=True)"
   ]
  },
  {
   "cell_type": "code",
   "execution_count": 123,
   "metadata": {},
   "outputs": [],
   "source": [
    "result = loader.load()"
   ]
  },
  {
   "cell_type": "code",
   "execution_count": 124,
   "metadata": {},
   "outputs": [
    {
     "name": "stdout",
     "output_type": "stream",
     "text": [
      "<class 'list'>\n",
      "Found video from Politics with Paint that is 1123 seconds long\n",
      "\n",
      "[Document(page_content='The South China Sea: Arena, to what is one of the\\xa0\\nmost complex and dangerous territorial disputes\\xa0\\xa0 in the world. This incredibly valuable body of\\xa0\\nwater is defined by hundreds of tiny islands,\\xa0\\xa0 the ownership of which is highly contested between\\xa0\\nseveral nations. Vietnam, Malaysia, Brunei and the\\xa0\\xa0 Philippines all have overlapping claims here.\\xa0\\nBut the largest claim by far is made by China.\\xa0\\xa0 The infamous \"Nine-dash Line\" - also called the cow\\'s\\xa0\\ntongue - claims about 90 percent of the South China\\xa0\\xa0 Sea for the People\\'s Republic of China. And the\\xa0\\ncomplexity of this dispute does not end there.\\xa0\\xa0 Due to the South China Sea\\'s wealth and\\xa0\\nnatural resources and its immense importance\\xa0\\xa0 as an international waterway, the conflict\\xa0\\nis also involving external powers like Japan,\\xa0\\xa0 India and most notably the United States, which\\xa0\\ndirectly challenges China\\'s claims by conducting\\xa0\\xa0 regular naval expeditions in these contested\\xa0\\nwaters. This has been the most requested topic\\xa0\\xa0 for me to cover by far and i\\'ll try to give you\\xa0\\na rough overview of what this dispute is about.\\xa0\\xa0 To do this, we will have to answer a number of\\xa0\\nquestions: Why is the south china sea so important?\\xa0\\xa0 Who is involved and why? And what does it mean\\xa0\\nfor the stability of the region and the world? A valuable territory is usually characterized\\xa0\\nby two things: The presence of natural resources\\xa0\\xa0 and a strategically important location. And the\\xa0\\nSouth China Sea features both of those things.\\xa0\\xa0 Here, a non-trivial amount of oil and gas has\\xa0\\nbeen shown to exist. How much is up to debate. Oil\\xa0\\xa0 reserves are estimated to be between 10 to 130\\xa0\\nbillion barrels and natural gas between 190 to\\xa0\\xa0 900 trillion cubic feet. While this means that\\xa0\\nthe region is probably not as rich in oil and\\xa0\\xa0 gas as the Middle-East, those resources are still\\xa0\\nlocated in an increasingly energy-hungry region\\xa0\\xa0 with fast-growing economies. And as time moves\\xa0\\non, new technologies could make the extraction\\xa0\\xa0 of these often difficult to reach resources much\\xa0\\neasier. Fishing is also a significant economic\\xa0\\xa0 factor to be considered. The South China Sea is\\xa0\\namong the most heavily fished waters in the world.\\xa0\\xa0 Seafood is an important part of people\\'s\\xa0\\ndiets in the region and access to these\\xa0\\xa0 waters is vital for the fishing industries of\\xa0\\nthe countries around it. This wealth and natural\\xa0\\xa0 resources is complemented by the South China\\xa0\\nSea\\'s valuable geographic position. It is among\\xa0\\xa0 the busiest waterways in the world, connecting the\\xa0\\nlarge markets of Eastern and South-eastern Asia\\xa0\\xa0 with the rest of Eurasia and Africa through the\\xa0\\nTaiwanese Strait in the North and the Strait of\\xa0\\xa0 Malacca in the South. Therefore, free access through\\xa0\\nthe South China Sea is immensely important, not\\xa0\\xa0 only to the countries around it, but also to\\xa0\\ncountries like Japan, South Korea, Indonesia and\\xa0\\xa0 India. But the key to controlling the South China\\xa0\\nSea is only revealed if we zoom in more closely.\\xa0\\xa0 Then we\\'ll find this: Hundreds of little islands,\\xa0\\nreefs and rocks scattered all across the South\\xa0\\xa0 China Sea in several major groupings. Although\\xa0\\nthese little bits of land are often barely above\\xa0\\xa0 sea level, they are essential for doing two things:\\xa0\\nOne thing is to bolster the legal claims of a\\xa0\\xa0 country, since in theory owning them is essential\\xa0\\nfor expanding a country\\'s Exclusive Economic Zone\\xa0(EEZ) in accordance with the international treaty on the\\xa0\\nlaw of the sea, short UNCLOS. This EEZ can extend up\\xa0\\xa0 to 200 nautical miles around a country\\'s\\xa0\\nterritory - provided it doesn\\'t collide with\\xa0\\xa0 another country\\'s EEZ before that. Within that zone,\\xa0\\nonly the territory\\'s owner has the exclusive right\\xa0\\xa0 to exploit natural resources - which means that the\\xa0\\nislands here could secure exclusive access to the\\xa0\\xa0 sweet, sweet resources mentioned before. And the\\xa0\\nother use for them is to build up military assets -\\xa0\\xa0 increasing a nation\\'s ability to actually\\xa0\\nenforce the territorial claims and restrict\\xa0\\xa0 access to the waters if the need should arise;\\xa0\\nfor instance, in the case of war. Which brings us\\xa0\\xa0 to the next question: Who is involved in\\xa0\\ntrying to control this region and why? Six governments are directly claiming islands in\\xa0\\nthe South China Sea: Among them, is Vietnam, which\\xa0\\xa0 claims a significant portion of the sea, arguing\\xa0\\nthat the many islands and reefs were used by\\xa0\\xa0 Vietnamese fishermen for centuries and were also\\xa0\\nformally incorporated into Vietnam during the\\xa0\\xa0 French colonial period. Vietnam officially handed\\xa0\\nin the current claim to the United Nations in 2009\\xa0\\xa0 and was joined by Malaysia, who also handed\\xa0\\nin theirs simultaneously. Malaysia\\'s claim in\\xa0\\xa0 the South China Sea is based on UNCLOS and the\\xa0\\ncontinental shelf principle - which is basically\\xa0\\xa0 a way for nations to extend the Exclusive Economic\\xa0\\nZone (EEZ). Simply put, this is done by adding up to 350\\xa0\\xa0 nautical miles of the continental shelf - meaning\\xa0\\nthe submerged part of the land - to the EEZ.\\xa0\\xa0 Malaysia\\'s claim also includes a number of the\\xa0\\nSpratly Islands, where Vietnam and Malaysia overlap.\\xa0\\xa0 Malaysia\\'s argument here is that the islands\\xa0\\nwere part of the Japanese Empire until 1945,\\xa0 after which it renounced its claims to the\\xa0\\nSpratlys and allowed Malaysia to annex some of\\xa0\\xa0 them. Brunei\\'s claim to the South China Sea is very\\xa0\\nsimilar: Claiming a long rectangle up the Southern\\xa0\\xa0 edge of the Spratly islands. But for decades\\xa0\\nthe biggest problem for the small Sultanate\\xa0\\xa0 has been defining its borders with Malaysia,\\xa0\\nalthough some progress has been made so far.\\xa0\\xa0 The Philippines also lay claim on several Islands\\xa0\\nthey consider part of the Philippine archipelago.\\xa0\\xa0 Which makes the claim overlap with all claims\\xa0\\nmentioned before. And then we have the elephant\\xa0\\xa0 in the room; or rather the elephant and small\\xa0\\ntwin brother: the two Chinas. Firstly, there is\\xa0\\xa0 the People\\'s Republic of China, which claims the\\xa0\\nvast majority of the South China Sea for itself\\xa0\\xa0 in accordance with the \"Nine-dash Line\". The line\\xa0\\noriginated in a slightly different version in\\xa0\\xa0 the 1930s, when the government of the then Republic\\xa0\\nof China began drafting its territorial claims to\\xa0\\xa0 the South China Sea based on historic documents,\\xa0\\nas they argued that past Chinese dynasties\\xa0\\xa0 considered much of East and South-east Asia to be\\xa0\\npart of their dominion. But soon after the line was\\xa0\\xa0 created, China would be plunged into a disastrous\\xa0\\nwar with Japan while fighting a civil war at the\\xa0\\xa0 same time - which eventually the communist forces\\xa0\\nwon. The new communist People\\'s Republic of China\\xa0\\xa0 would go on to adopt the line as well, while\\xa0\\nthe nationalist forces which lost the civil\\xa0\\xa0 war retreated to Taiwan and brought with them the\\xa0\\nsame territorial claims of the Republic of China,\\xa0\\xa0 including the \"Nine-dash Line\" - which is why\\xa0\\nTaiwan claims the exact same territory. While\\xa0\\xa0 claiming islands as your own territory is one\\xa0\\nthing, actually controlling them is another. If\\xa0\\xa0 we take a closer look at, for example, who\\xa0\\ncontrols the Spratly islands, we can see that\\xa0\\xa0 the situation here is a confusing mess with\\xa0\\nvarious nations controlling bits here and there.\\xa0\\xa0 Some of these Islands feature entire military\\xa0\\nbases, which makes one thing very clear:\\xa0\\xa0 Controlling these Islands is incredibly important\\xa0\\nto these nations. However, the number of Islands is\\xa0\\xa0 very limited - sort of like NFTs if NFTs were\\xa0\\nactually useful - which is why in 2013, China\\xa0\\xa0 developed the South China Sea equivalent to\\xa0\\nright-clicking and saving an NFT by creating\\xa0\\xa0 artificial Islands capable of sustaining large\\xa0\\nmilitary bases and even deep water ports. This\\xa0\\xa0 move of course heightened tension in the region\\xa0\\nand brought international media attention to it. And if this wasn\\'t confusing enough already,\\xa0\\nthere are plenty of other actors involved in\\xa0\\xa0 this dispute that don\\'t have a direct claim,\\xa0\\nbut are nonetheless involved due to their\\xa0\\xa0 proximity or national interests in the region.\\xa0\\nIndonesia has reiterated time and time again\\xa0\\xa0 that it doesn\\'t have a claim in the South China\\xa0\\nSea, but has repeatedly come into conflict with\\xa0\\xa0 China around its Natuna Islands, since China\\'s\\xa0\\nNine-dash Line overlaps in part with what\\xa0\\xa0 Indonesia considers to be its territorial waters.\\xa0\\nThe tiny but incredibly wealthy city-state\\xa0\\xa0 of Singapore also doesn\\'t have a claim, but\\xa0\\nis one of the most important economic and\\xa0\\xa0 financial hubs of Asia and the world, it relies\\xa0\\nheavily on free access to the South China Sea.\\xa0\\xa0 And while Singapore has mostly friendly\\xa0\\nrelations with its neighbours as well as\\xa0\\xa0 China, it is in its best interest that no single\\xa0\\npower has control over the South China Sea.\\xa0\\xa0 Worth mentioning is also the role of ASEAN - the\\xa0\\nAssociation of South East Asian Nations - which is\\xa0\\xa0 basically a very stripped down version of the\\xa0\\nEuropean Union. Together, all members of ASEAN\\xa0\\xa0 form a formidable economic bloc with a combined\\xa0\\nGDP of about 3 trillion US-dollars - comparable\\xa0\\xa0 to the economies of India and the United Kingdom.\\xa0\\nAnd while ASEAN has been successful in bringing\\xa0\\xa0 China to the negotiation table, it faces deep\\xa0\\ninternal divisions since some member states\\xa0\\xa0 like Laos and Myanmar are very supportive of China\\xa0\\nin contrast to members like Vietnam and Malaysia.\\xa0\\xa0 Lastly, we have the external actors - three of which\\xa0\\nwe are going to take a short look at: India, Japan\\xa0\\xa0 and the United States. India has been increasingly\\xa0\\nactive in the South China Sea for years now.\\xa0\\xa0 For this purpose, it introduced the so-called \"Act\\xa0\\nEast Policy\", with which it seeks to develop stronger\\xa0\\xa0 security cooperation with several countries in\\xa0\\nthe region as well as major external actors like\\xa0\\xa0 Japan and the United States. India is especially\\xa0\\ninterested in protecting the Strait of Malacca.\\xa0\\xa0 The reasons for that are twofold: Firstly,\\xa0\\nthe South China Sea is incredibly important to\\xa0\\xa0 India\\'s trading activities in the entire Asia\\xa0\\nPacific - and the Strait of Malacca specifically\\xa0\\xa0 is the strategically most vital region,\\xa0\\nas it channels maritime traffic between\\xa0\\xa0 the Indian and Pacific oceans. And secondly,\\xa0\\nIndia seeks to challenge China\\'s quest for\\xa0\\xa0 hegemony in the South China Sea as China and\\xa0\\nIndia have been at odds with each other at the\\xa0\\xa0 Chinese-Indian border since the 1950s - something\\xa0\\nI already made a video about. Japan has also been\\xa0\\xa0 increasingly active in the South China Sea, closely\\xa0\\ncooperating with its main ally, the United States.\\xa0\\xa0 The reasons for Japan\\'s involvement are fairly\\xa0\\nsimilar to India\\'s: On the one hand, its economy is\\xa0\\xa0 quite dependent on access to the South China Sea,\\xa0\\nwhere for instance about 70% of its energy\\xa0\\xa0 imports from the Middle-East pass through. And\\xa0\\nJapanese Energy firms are heavily involved in oil\\xa0\\xa0 and gas explorations in the region in cooperation\\xa0\\nwith Vietnam, Malaysia and the Philippines.\\xa0\\xa0 On the other hand, Japan is also caught in a\\xa0\\nregional rivalry with China for a variety of\\xa0\\xa0 reasons, including the territorial disputes over\\xa0\\nthe Senkaku/Diaoyu Islands in the East China Sea\\xa0\\xa0 and the status of Taiwan, just to name a few.\\xa0\\nThen we come to the largest external player:\\xa0\\xa0 The United States, which has increased its presence\\xa0\\nin the South China Sea significantly since the\\xa0\\xa0 2010s. This involvement is characterised by two\\xa0\\nthings: Firstly, by building up a quasi-anti-Chinese\\xa0\\xa0 alliance with various countries in the\\xa0\\nregion in order to contain Chinese ambitions.\\xa0\\xa0 And secondly, regular so-called \"Freedom of\\xa0\\nNavigation Operations\", during which American and\\xa0\\xa0 allied navy ships will traverse parts of the South\\xa0\\nChina Sea which China claims as territorial waters,\\xa0\\xa0 but the US sees as international waters. The\\xa0\\nreasons behind this activity are somewhat\\xa0\\xa0 different from the external actors we discussed\\xa0\\nbefore: While the US certainly has some economic\\xa0\\xa0 interest in the South China Sea, it is much less\\xa0\\nof a factor in this case. For the US, being involved\\xa0\\xa0 in the South China Sea is about nothing less\\xa0\\nthan maintaining the global world order it has\\xa0\\xa0 built over the last decades. Which brings us\\xa0\\nto the third and last question of this video. The South China Sea dispute is immensely\\xa0\\ncomplicated. Every single actor involved\\xa0\\xa0 is driven by a unique set of motivations and\\xa0\\nfacing a wide variety of complex challenges.\\xa0\\xa0 In the future, I plan to dedicate a video to the\\xa0\\nrole of each and every actor in this conflict.\\xa0\\xa0 But for the time being, those are well beyond\\xa0\\nthe scope of this video. But what we can do is\\xa0\\xa0 have a look at the most defining characteristic\\xa0\\nof this conflict: The Chinese-American rivalry.\\xa0\\xa0 Over the last decades, China\\'s conduct in the\\xa0\\nSouth China Sea has become much more assertive.\\xa0\\xa0 It relocated a significant part of its navy,\\xa0\\nincluding its submarines, to a large naval base\\xa0\\xa0 on Hainan Island to be closer to the disputed area.\\xa0\\nIt has continuously built up military assets on\\xa0\\xa0 many Islands and reefs and increased its overall\\xa0\\nnaval presence - giving it the ability to police\\xa0\\xa0 much of these waters, as demonstrated by its\\xa0\\nregular interference with foreign fishermen\\xa0\\xa0 and oil and gas exploration activities conducted\\xa0\\nby other countries like Vietnam and Malaysia. And\\xa0\\xa0 while China continues to rise to the status of\\xa0\\nglobal power by growing its economic and military\\xa0\\xa0 might, it is highly likely that the country\\xa0\\nwill spend even more resources on achieving\\xa0\\xa0 dominance in the South China Sea and overcome the\\xa0\\nopposition of the United States and its partners.\\xa0\\xa0 China\\'s motivations in doing so might be better\\xa0\\nunderstood when examining how historically, another\\xa0\\xa0 nation behaved during its rise while faced\\xa0\\nwith a similar situation: The United States.\\xa0\\xa0 In the 19th century, the United States was the\\xa0\\nrising power on the world stage, while at the\\xa0\\xa0 same time, most of the European colonial powers -\\xa0\\nwhich for centuries had dominated the political\\xa0\\xa0 landscape of the Americas - were gone from the\\xa0\\nvast majority of the continent. However, among\\xa0\\xa0 the last European footholds in the Americas was a\\xa0\\nregion of particular interest to the United States,\\xa0\\xa0 due to its proximity and strategically important\\xa0\\nlocation: The Caribbean. For the influential\\xa0\\xa0 political scientist John Mearsheimer, the situation\\xa0\\nin which the US found itself in the Caribbean was\\xa0\\xa0 very similar to the one China finds itself in the\\xa0\\nSouth China Sea today: In both cases, a rising power\\xa0\\xa0 seeks to dominate an adjacent and strategically\\xa0\\nimportant sea region, defined by numerous Islands,\\xa0\\xa0 and still under the influence of more distant\\xa0\\npowers. In the case of the US it was successful:\\xa0\\xa0 in 1898, the Spanish-American war broke out, after\\xa0\\nwhich Spain was completely driven from the region,\\xa0\\xa0 while the remaining European powers, most notably\\xa0\\nthe United Kingdom, would accept American dominance\\xa0\\xa0 over the Caribbean, while eventually moving\\xa0\\ntowards a closer relationship with the US.\\xa0\\xa0 China would like to achieve something similar in\\xa0\\nthe South China Sea, but is still far from doing\\xa0\\xa0 so, as the situation here differs in a number of\\xa0\\nregards. Firstly, the Caribbean only harboured rather\\xa0\\xa0 small and easily influenced nations, while in the\\xa0\\nSouth China Sea, China seeks to dominate countries\\xa0\\xa0 like Vietnam and Malaysia, which are much more\\xa0\\npowerful than the small states of the Caribbean,\\xa0\\xa0 and able to punch well above the weight. And\\xa0\\nsecondly, the European powers which were present\\xa0\\xa0 in the Caribbean were already in decline and\\xa0\\nincreasingly occupied with problems on their\\xa0\\xa0 home continent, which made it easier for the rising\\xa0\\nUnited States to establish dominance in the region.\\xa0\\xa0 Meanwhile China is facing a still powerful\\xa0\\nUnited States, which lays heavy emphasis on its\\xa0\\xa0 national interests in the South China Sea - building\\xa0\\na growing quasi-alliance network in the region.\\xa0\\xa0 America\\'s presence in the South China Sea has\\xa0\\nbeen an important feature of US foreign policy\\xa0\\xa0 since at least the Clinton administration and\\xa0\\nwas significantly increased during the Obama\\xa0\\xa0 and Trump administrations. That growing presence\\xa0\\nis not only the case with the South China Sea,\\xa0\\xa0 but the entire Asia-pacific region in fact -\\xa0\\nand that\\'s not without good reason. For the US,\\xa0\\xa0 China is developing into its main geopolitical\\xa0\\nrival. A role, which was vacant for decades after\\xa0\\xa0 the collapse of the Soviet Union. China has\\xa0\\nindeed great ambitions for itself: Until 2049,\\xa0\\xa0 exactly 100 years after the establishment\\xa0\\nof the communist People\\'s Republic,\\xa0 Beijing aims to become the world\\'s\\xa0\\nleading power across all major benchmarks.\\xa0\\xa0 And the country seems to be currently on the right\\xa0\\ntrack: China is projected to become the largest\\xa0\\xa0 economy in the world in the near future, while the\\xa0\\never-growing \"Belt and Road Initiative\", through which\\xa0\\xa0 China finances infrastructure mega-projects\\xa0\\nacross the world, is a clear sign of China\\'s\\xa0\\xa0 goal to become a truly global power - which are\\xa0\\nworrying developments for the United States.\\xa0\\xa0 Therefore, it is in the United States national\\xa0\\ninterest to cooperate with its regional partners\\xa0\\xa0 to contain China, so it cannot solely\\xa0\\nfocus on growing its global influence. This\\xa0\\xa0 adds immense potential for escalation to an\\xa0\\nalready dangerous conflict. And that makes the\\xa0\\xa0 South China Sea without a doubt a powder keg\\xa0\\nand an ever increasing risk to regional and\\xa0\\xa0 global peace. And incidents, which could trigger an\\xa0\\nescalation, are unfortunately not rare. Just a month\\xa0\\xa0 before the release of this video, a US fighter\\xa0\\nplane crashed and sank into the South China Sea\\xa0\\xa0 after a landing mishap. Some speculated, that this\\xa0\\ncould cause a confrontation between the US and\\xa0\\xa0 China, as both race to recover the wreck. One thing\\xa0\\nin this dispute seems clear: If a somewhat stable\\xa0\\xa0 regime for conduct in the South China Sea cannot\\xa0\\nbe negotiated between all involved actors, it seems\\xa0\\xa0 to me that it is only a question of time when this\\xa0\\nregion will become the center of a global crisis. Hello everyone i\\'m sorry for the long wait,\\xa0\\nbut this video took me quite a while to make.\\xa0\\xa0 So, if you enjoyed it and also enjoy the other\\xa0\\ncontent I make, consider supporting my channel on\\xa0\\xa0 Patreon. You can find the link in the description,\\xa0\\nas well as on my social media links. Otherwise, like\\xa0\\xa0 and subscribe! It really helps the channel out.\\xa0\\nThanks for watching, I\\'ll see you next one, bye!', metadata={'source': '-2v6EJE3XKo', 'title': 'South China Sea dispute explained', 'description': 'Unknown', 'view_count': 1627753, 'thumbnail_url': 'https://i.ytimg.com/vi/-2v6EJE3XKo/hq720.jpg?v=636b9f92', 'publish_date': '2022-02-25 00:00:00', 'length': 1123, 'author': 'Politics with Paint'})]\n"
     ]
    }
   ],
   "source": [
    "print (type(result))\n",
    "print (f\"Found video from {result[0].metadata['author']} that is {result[0].metadata['length']} seconds long\")\n",
    "print (\"\")\n",
    "print (result)"
   ]
  },
  {
   "cell_type": "code",
   "execution_count": 125,
   "metadata": {},
   "outputs": [],
   "source": [
    "llm = OpenAI(temperature=0, openai_api_key=my_key)"
   ]
  },
  {
   "cell_type": "code",
   "execution_count": 126,
   "metadata": {},
   "outputs": [],
   "source": [
    "text_splitter = RecursiveCharacterTextSplitter(chunk_size=2000, chunk_overlap=0)"
   ]
  },
  {
   "cell_type": "code",
   "execution_count": 131,
   "metadata": {},
   "outputs": [
    {
     "name": "stdout",
     "output_type": "stream",
     "text": [
      "10\n"
     ]
    }
   ],
   "source": [
    "texts = text_splitter.split_documents(result)\n",
    "print(len(texts))"
   ]
  },
  {
   "cell_type": "code",
   "execution_count": 129,
   "metadata": {},
   "outputs": [
    {
     "name": "stdout",
     "output_type": "stream",
     "text": [
      "\n",
      "\n",
      "\u001b[1m> Entering new MapReduceDocumentsChain chain...\u001b[0m\n",
      "\n",
      "\n",
      "\u001b[1m> Entering new LLMChain chain...\u001b[0m\n",
      "Prompt after formatting:\n",
      "\u001b[32;1m\u001b[1;3mWrite a concise summary of the following:\n",
      "\n",
      "\n",
      "\"The South China Sea: Arena, to what is one of the \n",
      "most complex and dangerous territorial disputes   in the world. This incredibly valuable body of \n",
      "water is defined by hundreds of tiny islands,   the ownership of which is highly contested between \n",
      "several nations. Vietnam, Malaysia, Brunei and the   Philippines all have overlapping claims here. \n",
      "But the largest claim by far is made by China.   The infamous \"Nine-dash Line\" - also called the cow's \n",
      "tongue - claims about 90 percent of the South China   Sea for the People's Republic of China. And the \n",
      "complexity of this dispute does not end there.   Due to the South China Sea's wealth and \n",
      "natural resources and its immense importance   as an international waterway, the conflict \n",
      "is also involving external powers like Japan,   India and most notably the United States, which \n",
      "directly challenges China's claims by conducting   regular naval expeditions in these contested \n",
      "waters. This has been the most requested topic   for me to cover by far and i'll try to give you \n",
      "a rough overview of what this dispute is about.   To do this, we will have to answer a number of \n",
      "questions: Why is the south china sea so important?   Who is involved and why? And what does it mean \n",
      "for the stability of the region and the world? A valuable territory is usually characterized \n",
      "by two things: The presence of natural resources   and a strategically important location. And the \n",
      "South China Sea features both of those things.   Here, a non-trivial amount of oil and gas has \n",
      "been shown to exist. How much is up to debate. Oil   reserves are estimated to be between 10 to 130 \n",
      "billion barrels and natural gas between 190 to   900 trillion cubic feet. While this means that \n",
      "the region is probably not as rich in oil and   gas as the Middle-East, those resources are still \n",
      "located in an increasingly energy-hungry region   with fast-growing economies. And as time moves\"\n",
      "\n",
      "\n",
      "CONCISE SUMMARY:\u001b[0m\n",
      "Prompt after formatting:\n",
      "\u001b[32;1m\u001b[1;3mWrite a concise summary of the following:\n",
      "\n",
      "\n",
      "\"on, new technologies could make the extraction   of these often difficult to reach resources much \n",
      "easier. Fishing is also a significant economic   factor to be considered. The South China Sea is \n",
      "among the most heavily fished waters in the world.   Seafood is an important part of people's \n",
      "diets in the region and access to these   waters is vital for the fishing industries of \n",
      "the countries around it. This wealth and natural   resources is complemented by the South China \n",
      "Sea's valuable geographic position. It is among   the busiest waterways in the world, connecting the \n",
      "large markets of Eastern and South-eastern Asia   with the rest of Eurasia and Africa through the \n",
      "Taiwanese Strait in the North and the Strait of   Malacca in the South. Therefore, free access through \n",
      "the South China Sea is immensely important, not   only to the countries around it, but also to \n",
      "countries like Japan, South Korea, Indonesia and   India. But the key to controlling the South China \n",
      "Sea is only revealed if we zoom in more closely.   Then we'll find this: Hundreds of little islands, \n",
      "reefs and rocks scattered all across the South   China Sea in several major groupings. Although \n",
      "these little bits of land are often barely above   sea level, they are essential for doing two things: \n",
      "One thing is to bolster the legal claims of a   country, since in theory owning them is essential \n",
      "for expanding a country's Exclusive Economic Zone (EEZ) in accordance with the international treaty on the \n",
      "law of the sea, short UNCLOS. This EEZ can extend up   to 200 nautical miles around a country's \n",
      "territory - provided it doesn't collide with   another country's EEZ before that. Within that zone, \n",
      "only the territory's owner has the exclusive right   to exploit natural resources - which means that the \n",
      "islands here could secure exclusive access to the   sweet, sweet resources mentioned before. And the \n",
      "other use for them is to build up military assets -   increasing a nation's ability to actually\"\n",
      "\n",
      "\n",
      "CONCISE SUMMARY:\u001b[0m\n",
      "Prompt after formatting:\n",
      "\u001b[32;1m\u001b[1;3mWrite a concise summary of the following:\n",
      "\n",
      "\n",
      "\"enforce the territorial claims and restrict   access to the waters if the need should arise; \n",
      "for instance, in the case of war. Which brings us   to the next question: Who is involved in \n",
      "trying to control this region and why? Six governments are directly claiming islands in \n",
      "the South China Sea: Among them, is Vietnam, which   claims a significant portion of the sea, arguing \n",
      "that the many islands and reefs were used by   Vietnamese fishermen for centuries and were also \n",
      "formally incorporated into Vietnam during the   French colonial period. Vietnam officially handed \n",
      "in the current claim to the United Nations in 2009   and was joined by Malaysia, who also handed \n",
      "in theirs simultaneously. Malaysia's claim in   the South China Sea is based on UNCLOS and the \n",
      "continental shelf principle - which is basically   a way for nations to extend the Exclusive Economic \n",
      "Zone (EEZ). Simply put, this is done by adding up to 350   nautical miles of the continental shelf - meaning \n",
      "the submerged part of the land - to the EEZ.   Malaysia's claim also includes a number of the \n",
      "Spratly Islands, where Vietnam and Malaysia overlap.   Malaysia's argument here is that the islands \n",
      "were part of the Japanese Empire until 1945,  after which it renounced its claims to the \n",
      "Spratlys and allowed Malaysia to annex some of   them. Brunei's claim to the South China Sea is very \n",
      "similar: Claiming a long rectangle up the Southern   edge of the Spratly islands. But for decades \n",
      "the biggest problem for the small Sultanate   has been defining its borders with Malaysia, \n",
      "although some progress has been made so far.   The Philippines also lay claim on several Islands \n",
      "they consider part of the Philippine archipelago.   Which makes the claim overlap with all claims \n",
      "mentioned before. And then we have the elephant   in the room; or rather the elephant and small \n",
      "twin brother: the two Chinas. Firstly, there is   the People's Republic of China, which claims the\"\n",
      "\n",
      "\n",
      "CONCISE SUMMARY:\u001b[0m\n",
      "Prompt after formatting:\n",
      "\u001b[32;1m\u001b[1;3mWrite a concise summary of the following:\n",
      "\n",
      "\n",
      "\"vast majority of the South China Sea for itself   in accordance with the \"Nine-dash Line\". The line \n",
      "originated in a slightly different version in   the 1930s, when the government of the then Republic \n",
      "of China began drafting its territorial claims to   the South China Sea based on historic documents, \n",
      "as they argued that past Chinese dynasties   considered much of East and South-east Asia to be \n",
      "part of their dominion. But soon after the line was   created, China would be plunged into a disastrous \n",
      "war with Japan while fighting a civil war at the   same time - which eventually the communist forces \n",
      "won. The new communist People's Republic of China   would go on to adopt the line as well, while \n",
      "the nationalist forces which lost the civil   war retreated to Taiwan and brought with them the \n",
      "same territorial claims of the Republic of China,   including the \"Nine-dash Line\" - which is why \n",
      "Taiwan claims the exact same territory. While   claiming islands as your own territory is one \n",
      "thing, actually controlling them is another. If   we take a closer look at, for example, who \n",
      "controls the Spratly islands, we can see that   the situation here is a confusing mess with \n",
      "various nations controlling bits here and there.   Some of these Islands feature entire military \n",
      "bases, which makes one thing very clear:   Controlling these Islands is incredibly important \n",
      "to these nations. However, the number of Islands is   very limited - sort of like NFTs if NFTs were \n",
      "actually useful - which is why in 2013, China   developed the South China Sea equivalent to \n",
      "right-clicking and saving an NFT by creating   artificial Islands capable of sustaining large \n",
      "military bases and even deep water ports. This   move of course heightened tension in the region \n",
      "and brought international media attention to it. And if this wasn't confusing enough already, \n",
      "there are plenty of other actors involved in   this dispute that don't have a direct claim,\"\n",
      "\n",
      "\n",
      "CONCISE SUMMARY:\u001b[0m\n",
      "\n",
      "\u001b[1m> Finished chain.\u001b[0m\n",
      "\n",
      "\n",
      "\u001b[1m> Entering new LLMChain chain...\u001b[0m\n",
      "Prompt after formatting:\n",
      "\u001b[32;1m\u001b[1;3mWrite a concise summary of the following:\n",
      "\n",
      "\n",
      "\" The South China Sea is a highly contested area with multiple nations claiming ownership of hundreds of tiny islands. China has the largest claim, but other countries like Vietnam, Malaysia, Brunei, and the Philippines also have overlapping claims. The dispute involves external powers like Japan, India, and the United States due to the region's valuable natural resources and strategic location. The South China Sea is estimated to have significant oil and gas reserves, making it an important area for energy production in a rapidly growing region.\n",
      "\n",
      "\n",
      "\n",
      "New technologies could make extracting resources in the South China Sea easier. Fishing is important in the region, which is heavily fished and strategically located. Access to the sea is crucial for the fishing industries and for connecting markets. The South China Sea is filled with small islands, reefs, and rocks that are important for legal claims and military assets. These islands can secure exclusive access to resources and increase a country's military power.\n",
      "\n",
      "\n",
      "\n",
      "The South China Sea is a region with disputed territorial claims and restricted access to its waters. Six governments, including Vietnam, Malaysia, and the Philippines, are involved in trying to control the region. These claims are based on historical use, UNCLOS, and the continental shelf principle. The two Chinas, the People's Republic of China and Taiwan, also have conflicting claims in the region.\n",
      "\n",
      " The South China Sea is a highly contested area, with China claiming the majority of it based on a historical \"Nine-dash Line\" dating back to the 1930s. The line was adopted by both the communist People's Republic of China and the nationalist forces in Taiwan. However, controlling the islands in the region is a complex issue, with various nations and actors involved. In 2013, China built artificial islands with military bases and ports, causing tension and international attention. Other actors are also involved in the dispute.\"\n",
      "\n",
      "\n",
      "CONCISE SUMMARY:\u001b[0m\n",
      "\n",
      "\u001b[1m> Finished chain.\u001b[0m\n",
      "\n",
      "\u001b[1m> Finished chain.\u001b[0m\n"
     ]
    },
    {
     "data": {
      "text/plain": [
       "\" The South China Sea is a heavily disputed region with multiple countries claiming ownership of hundreds of islands. The dispute involves external powers due to the region's valuable resources and strategic location. New technologies could make resource extraction easier, and fishing is important for the region's economy. The area is filled with small islands and reefs that are important for legal claims and military power. Six governments, including China and Taiwan, are involved in trying to control the region. In 2013, China's construction of artificial islands with military bases caused tension and international attention.\""
      ]
     },
     "execution_count": 129,
     "metadata": {},
     "output_type": "execute_result"
    }
   ],
   "source": [
    "chain = load_summarize_chain(llm, chain_type=\"map_reduce\", verbose=True)\n",
    "chain.run(texts[:4])"
   ]
  },
  {
   "cell_type": "code",
   "execution_count": 127,
   "metadata": {},
   "outputs": [],
   "source": [
    "# chain = load_summarize_chain(llm, chain_type=\"stuff\", verbose=False)\n",
    "# chain.run(result)"
   ]
  }
 ],
 "metadata": {
  "kernelspec": {
   "display_name": "Python 3 (ipykernel)",
   "language": "python",
   "name": "python3"
  },
  "language_info": {
   "codemirror_mode": {
    "name": "ipython",
    "version": 3
   },
   "file_extension": ".py",
   "mimetype": "text/x-python",
   "name": "python",
   "nbconvert_exporter": "python",
   "pygments_lexer": "ipython3",
   "version": "3.11.6"
  },
  "vscode": {
   "interpreter": {
    "hash": "973d40b2b159501a25714dfd9efcd538724ccd5db5f6d4a830e5916e0fa69d6d"
   }
  }
 },
 "nbformat": 4,
 "nbformat_minor": 4
}
