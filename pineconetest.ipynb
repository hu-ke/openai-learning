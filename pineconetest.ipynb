{
 "cells": [
  {
   "cell_type": "code",
   "execution_count": 4,
   "metadata": {},
   "outputs": [
    {
     "name": "stdout",
     "output_type": "stream",
     "text": [
      "page_content='Annotation\\nThis\\tbook\\tis\\tfantastic\\tit\\tis\\tabout\\ta\\tvery\\tpoor\\tboy\\tnamed\\tCharlie\\tBucket.\\tHe\\talways\\ngoes\\tto\\tschool\\twith\\tout\\ta\\tjacket\\tbecause\\tthey\\tdon’t\\thave\\tmoney\\tto\\tbuy\\tCharlie\\tthings.\\tThe\\nsetting\\tof\\tthe\\tbook\\tis\\tan\\tunnamed\\tcity;\\tsmall\\twooden\\thouse\\ton\\tthe\\tedge\\tof\\ta\\tgreat\\tcity,a\\nfabled\\tchocolate\\tfactory.\\tThe\\tconflict\\tis\\tfive\\tchildren\\twho\\thave\\tfound\\tgolden\\ttickets\\ncompete\\tto\\tsee\\twho\\twill\\ttake\\tover\\tMr.\\tWonka’s\\tchocolate\\tfactory.\\tIt\\tall\\tstarted\\twhen\\tthe\\nnewpaper\\tannounces\\tthat\\tthe\\tWonka\\tchocolate\\tfactory\\twill\\thide\\tfive\\tgolden\\ttickets\\tin\\tthe\\nWonka\\tchocolate\\tbars.\\tCharlie\\tdesperately\\thopes\\the\\twill\\tfind\\ta\\tgolden\\tticket.\\tThe\\tproblem\\nis\\tthat\\teach\\tyear\\the\\tgets\\ta\\tchocolate\\ton\\this\\tbirthday,\\tand\\the\\tdoesn’t\\thave\\tmoney\\tto\\tbuy\\none.\\tCharlie\\tfather\\tloses\\this\\tjob\\tand\\tthe\\tpoor\\tfamily\\tis\\ton\\tbrink\\tof\\tstarvation.\\tCharlie\\tfinds\\na\\tdollar\\tbill\\ton\\tthe\\tstreet,\\tand\\tbefore\\the\\ttells\\this\\tmother,\\the\\tgoes\\tto\\tbuy\\ttwo\\tchocolate\\nbars.\\tOne\\tof\\tthe\\tbars\\tcontains\\tthe\\tfifth\\tgolden\\tticket.\\tCharlie\\tand\\this\\tGrandpa\\tJoe\\tgo\\tto\\tthe\\nWonka\\tChocolate\\tFactory.\\tWhen\\tthe\\tare\\tfinally\\tthere\\tMr.\\tWonka\\ttells\\teverybody\\tto\\tbe\\ncareful,and\\tnot\\ttouch\\tany\\tthing\\tfrom\\tthe\\tfactory.\\tThen\\tAugustus\\tGloop\\tfalls\\tinto\\tthe\\thot\\nchocolate\\triver\\twhile\\tattempting\\tto\\tdrink\\tit,\\tand\\tgets\\tsucked\\tup\\tby\\tone\\tof\\tthe\\tpipes.\\nVeruca\\tSalt\\tis\\tdetermined\\tto\\tbe\\ta\\tbad\\tnut\\tby\\tnut\\tjudging\\tsquirrels\\twho\\tthrow\\ther\\tout\\twith\\nthe\\ttrash.\\tViolet\\tBeauregarde\\tgrabs\\tan\\texperimental\\tpiece\\tof\\tgum\\tand\\tchew\\therself\\tinto\\ta\\ngiant\\tblueberry.\\tShe\\tis\\tremoved\\tfrom\\tthe\\tfactory.\\tMike\\tTeavee\\tshrinks\\thimself\\tand\\this\\nfather\\thas\\tto\\tcarry\\thim\\tout\\tin\\this\\tbreast\\tpocket.\\tSo\\tCharlie\\tis\\tthe\\tonly\\tone\\tthat\\tis\\tleft\\tin\\tthe\\nfactory.\\tMr.\\tWonka\\ttries\\tto\\tfind\\ta\\tperson\\tthat\\twould\\tkeep\\tthe\\tchocolate\\tfactory.\\tMr.\\nWonka\\tdecided\\tto\\tgive\\taway\\this\\tfactory\\tbecause\\the\\tis\\ttoo\\told.\\tThen\\the\\tdecides\\tthat\\nCharlie\\tis\\tthe\\tone\\twho\\twill\\trun\\tthe\\tfactory\\texactly\\tthe\\tway\\the\\thas\\talways\\trun\\tit.\\tFinally\\nMr.\\tWonka\\tcongrarulates\\thim\\tfor\\twinning\\tthe\\tentire\\tfactory\\tfor\\thimself\\tand\\this\\tfamily.\\n1\\n2\\n3\\n4\\n5\\n6\\n7\\n8\\n9\\n10\\n11\\n12\\n13\\n14\\n15\\n16\\n17\\n18' metadata={'source': './charlie-and-the-chocolate-factory-by-roald-dahl.pdf', 'page': 1}\n",
      "You have 89 document(s) in your data\n",
      "Now you have 25 documents\n"
     ]
    }
   ],
   "source": [
    "# PDF Loaders. If unstructured gives you a hard time, try PyPDFLoader\n",
    "from langchain.document_loaders import UnstructuredPDFLoader, OnlinePDFLoader, PyPDFLoader, TextLoader\n",
    "from langchain.text_splitter import RecursiveCharacterTextSplitter\n",
    "from langchain.embeddings import OpenAIEmbeddings\n",
    "from langchain.vectorstores import Chroma\n",
    "from langchain_pinecone import PineconeVectorStore\n",
    "from dotenv import load_dotenv\n",
    "from langchain.chat_models import ChatOpenAI\n",
    "from langchain.chains.question_answering import load_qa_chain\n",
    "import os\n",
    "load_dotenv()\n",
    "\n",
    "openai_api_key = os.getenv('OPENAI_API_KEY')\n",
    "\n",
    "loader = PyPDFLoader('./charlie-and-the-chocolate-factory-by-roald-dahl.pdf')\n",
    "# loader = PyPDFLoader('./IntoThinAirBook.pdf')\n",
    "pages = loader.load()\n",
    "text = \"\".join(page.page_content for page in pages)\n",
    "text = text.replace('\\t', ' ')\n",
    "# print(text)\n",
    "print(pages[1])\n",
    "# Note: If you're using PyPDFLoader then it will split by page for you already\n",
    "print (f'You have {len(pages)} document(s) in your data')\n",
    "# print (f'There are {len(pages[1].page_content)} characters in your sample document')\n",
    "# print (f'Here is a sample: {pages[1].page_content[:200]}')\n",
    "\n",
    "# We'll split our data into chunks around 500 characters each with a 50 character overlap. These are relatively small.\n",
    "text_splitter = RecursiveCharacterTextSplitter(separators=[\"\\n\\n\", \"\\n\", \"\\t\"], chunk_size=10000, chunk_overlap=3000)\n",
    "docs = text_splitter.create_documents([text])\n",
    "# Let's see how many small chunks we have\n",
    "print (f'Now you have {len(docs)} documents')\n",
    "embeddings = OpenAIEmbeddings(openai_api_key=openai_api_key)\n",
    "# vectors = embeddings.embed_documents([x.page_content for x in docs])"
   ]
  },
  {
   "cell_type": "code",
   "execution_count": 5,
   "metadata": {},
   "outputs": [
    {
     "data": {
      "text/plain": [
       "'In the provided context, there are several characters mentioned in the book:\\n1. Charlie Bucket\\n2. Grandpa Joe\\n3. Grandma Josephine\\n4. Grandpa George\\n5. Grandma Georgina\\n6. Mr. Bucket\\n7. Mrs. Bucket\\n8. Augustus Gloop\\n9. Veruca Salt\\n10. Violet Beauregarde\\n11. Mike Teavee\\n12. Mr. Willy Wonka\\n\\nThese are the main characters mentioned in the context provided.'"
      ]
     },
     "execution_count": 5,
     "metadata": {},
     "output_type": "execute_result"
    }
   ],
   "source": [
    "\n",
    "os.environ['PINECONE_API_KEY'] = os.getenv('PINECONE_API_KEY')\n",
    "index_name = 'hkpineconeindex1'\n",
    "vectorstore_from_texts = PineconeVectorStore.from_texts(\n",
    "    [x.page_content for x in docs],\n",
    "    index_name=index_name,\n",
    "    embedding=embeddings\n",
    ")\n",
    "\n",
    "query='how many people appeared in this book?'\n",
    "docs = vectorstore_from_texts.similarity_search(query)\n",
    "llm = ChatOpenAI(temperature=0, openai_api_key=os.getenv('OPENAI_API_KEY'))\n",
    "chain = load_qa_chain(llm, chain_type=\"stuff\")\n",
    "chain.run(input_documents=docs, question=query)"
   ]
  }
 ],
 "metadata": {
  "kernelspec": {
   "display_name": "Python 3.11.6 ('venv2405': venv)",
   "language": "python",
   "name": "python3"
  },
  "language_info": {
   "codemirror_mode": {
    "name": "ipython",
    "version": 3
   },
   "file_extension": ".py",
   "mimetype": "text/x-python",
   "name": "python",
   "nbconvert_exporter": "python",
   "pygments_lexer": "ipython3",
   "version": "3.11.6"
  },
  "orig_nbformat": 4,
  "vscode": {
   "interpreter": {
    "hash": "973d40b2b159501a25714dfd9efcd538724ccd5db5f6d4a830e5916e0fa69d6d"
   }
  }
 },
 "nbformat": 4,
 "nbformat_minor": 2
}
